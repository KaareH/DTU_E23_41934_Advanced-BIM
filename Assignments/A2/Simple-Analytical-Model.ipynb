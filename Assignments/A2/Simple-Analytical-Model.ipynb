{
 "cells": [
  {
   "cell_type": "markdown",
   "metadata": {},
   "source": [
    "# Assignment 2 - Simple analytical model        \n",
    "\n",
    "__41934 - Advanced BIM, E23__\n",
    "\n",
    "\n",
    "Kaare G. S. Hansen, s214282 - DTU\n"
   ]
  },
  {
   "cell_type": "markdown",
   "metadata": {},
   "source": [
    "## Imports"
   ]
  },
  {
   "cell_type": "code",
   "execution_count": 1,
   "metadata": {},
   "outputs": [],
   "source": [
    "from geomUtils import *\n",
    "from ifcUtils import *\n",
    "from rendering import *\n",
    "import geomUtils\n",
    "import ifcUtils\n",
    "import rendering\n",
    "import utils"
   ]
  },
  {
   "cell_type": "markdown",
   "metadata": {},
   "source": [
    "## Load model"
   ]
  },
  {
   "cell_type": "code",
   "execution_count": 2,
   "metadata": {},
   "outputs": [
    {
     "name": "stdout",
     "output_type": "stream",
     "text": [
      "File path, stru: /Users/Kaare/My Drive/DTU/Kurser/Videregaaende BIM - 41934/IFC-models\\SkyLab\\LLYN - STRU.ifc\n",
      "Model schema: IFC4\n",
      "\n"
     ]
    }
   ],
   "source": [
    "models = load_models(model_dir='/Users/Kaare/My Drive/DTU/Kurser/Videregaaende BIM - 41934/IFC-models\\SkyLab',\n",
    "                     models={#'ark': 'LLYN - ARK.ifc',\n",
    "                             'stru': 'LLYN - STRU.ifc',\n",
    "                             })"
   ]
  },
  {
   "cell_type": "code",
   "execution_count": 3,
   "metadata": {},
   "outputs": [
    {
     "name": "stdout",
     "output_type": "stream",
     "text": [
      "Beginning processing with 12 threads...\n",
      "Progress: 1%\n",
      "Progress: 28%\n",
      "Progress: 32%\n",
      "Progress: 44%\n",
      "Progress: 100%\n",
      "Progress: 100%\n",
      "Progress: 100%\n",
      "Progress: 100%\n",
      "Processed 3601 items\n",
      "Contexts: {'FootPrint', 'Axis', 'Body'}\n"
     ]
    }
   ],
   "source": [
    "model = models['stru']\n",
    "modelData = ModelData(model)"
   ]
  },
  {
   "cell_type": "markdown",
   "metadata": {},
   "source": [
    "### Group elements"
   ]
  },
  {
   "cell_type": "code",
   "execution_count": 4,
   "metadata": {},
   "outputs": [
    {
     "name": "stdout",
     "output_type": "stream",
     "text": [
      "1750\n",
      "10\n",
      "1835\n"
     ]
    }
   ],
   "source": [
    "elements = list(ifcopenshell.util.selector.filter_elements(model,\n",
    "    \"IfcBuildingElement, /Pset_.*Common/.LoadBearing=TRUE\"))\n",
    "\n",
    "elements_loadBearing = {element.GlobalId for element in elements}\n",
    "\n",
    "elements = list(ifcopenshell.util.selector.filter_elements(model,\n",
    "    \"IfcBuildingElement, /Pset_.*Common/.LoadBearing=FALSE\"))\n",
    "\n",
    "elements_nonloadBearing = {element.GlobalId for element in elements}\n",
    "\n",
    "elements = model.by_type('IfcBuildingElement')\n",
    "elements_all = {element.GlobalId for element in elements}\n",
    "\n",
    "elements = {element.GlobalId: element for element in elements}\n",
    "\n",
    "print(len(elements_loadBearing))\n",
    "print(len(elements_nonloadBearing))\n",
    "print(len(elements_all))"
   ]
  },
  {
   "cell_type": "code",
   "execution_count": 5,
   "metadata": {},
   "outputs": [
    {
     "name": "stdout",
     "output_type": "stream",
     "text": [
      "85\n"
     ]
    }
   ],
   "source": [
    "elements_nonloadBearing = elements_all.difference(elements_loadBearing)\n",
    "print(len(elements_nonloadBearing))"
   ]
  },
  {
   "cell_type": "markdown",
   "metadata": {},
   "source": [
    "## Make analytical model"
   ]
  },
  {
   "cell_type": "code",
   "execution_count": null,
   "metadata": {},
   "outputs": [],
   "source": []
  }
 ],
 "metadata": {
  "kernelspec": {
   "display_name": "BIMEnv",
   "language": "python",
   "name": "python3"
  },
  "language_info": {
   "codemirror_mode": {
    "name": "ipython",
    "version": 3
   },
   "file_extension": ".py",
   "mimetype": "text/x-python",
   "name": "python",
   "nbconvert_exporter": "python",
   "pygments_lexer": "ipython3",
   "version": "3.11.5"
  }
 },
 "nbformat": 4,
 "nbformat_minor": 2
}
