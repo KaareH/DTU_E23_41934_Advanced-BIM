{
 "cells": [
  {
   "cell_type": "markdown",
   "metadata": {},
   "source": [
    "# Code snippets\n",
    "\n",
    "__41934 - Advanced BIM, E23__\n",
    "\n",
    "\n",
    "Kaare G. S. Hansen, s214282 - DTU\n",
    "\n"
   ]
  },
  {
   "cell_type": "markdown",
   "metadata": {},
   "source": [
    "## OpenCascade"
   ]
  },
  {
   "cell_type": "markdown",
   "metadata": {},
   "source": [
    "### Documentation"
   ]
  },
  {
   "cell_type": "markdown",
   "metadata": {},
   "source": [
    "Useful links\n",
    "\n",
    "| Topic | Link |\n",
    "| ----- | ---- |\n",
    "| Toplogy Explorer | https://dev.opencascade.org/doc/refman/html/class_top_exp.html |\n",
    "| TopoDS_Shape | https://dev.opencascade.org/doc/refman/html/class_topo_d_s___shape.html |\n",
    "| BRepExtrema_DistShapeShape | https://dev.opencascade.org/doc/refman/html/class_b_rep_extrema___dist_shape_shape.html |\n"
   ]
  },
  {
   "cell_type": "markdown",
   "metadata": {},
   "source": [
    "### Approx_Curve3d"
   ]
  },
  {
   "cell_type": "code",
   "execution_count": null,
   "metadata": {},
   "outputs": [],
   "source": [
    "from OCC.Core.BRepAdaptor import BRepAdaptor_CompCurve\n",
    "from OCC.Core.Approx import Approx_Curve3d\n",
    "from OCC.Core.GeomAbs import GeomAbs_C2\n",
    "\n",
    "wireAdaptor = BRepAdaptor_CompCurve(wire)\n",
    "\n",
    "tol = 1e-7\n",
    "max_segments = 200\n",
    "max_degrees = 12\n",
    "\n",
    "approx = Approx_Curve3d(wireAdaptor, tol, GeomAbs_C2, max_segments, max_degrees)\n",
    "display(\n",
    "    approx,\n",
    "    approx.Curve()\n",
    ")"
   ]
  },
  {
   "cell_type": "markdown",
   "metadata": {},
   "source": [
    "### TopologyExplorer"
   ]
  },
  {
   "cell_type": "code",
   "execution_count": null,
   "metadata": {},
   "outputs": [],
   "source": [
    "from OCC.Extend.TopologyUtils import TopologyExplorer\n",
    "\n",
    "t = TopologyExplorer(shape)\n",
    "\n",
    "for wire in t.wires():\n",
    "    print(wire)\n",
    "\n",
    "for edge in t.edges():\n",
    "    print(edge)\n",
    "\n",
    "vertices = list()\n",
    "for val in t.vertices():\n",
    "    print(val)\n",
    "    vertices.append(val)\n",
    "\n",
    "    pnt = BRep_Tool.Pnt(val)\n",
    "    print(pnt.XYZ().X())\n"
   ]
  },
  {
   "cell_type": "markdown",
   "metadata": {},
   "source": [
    "### Geom_curve"
   ]
  },
  {
   "cell_type": "code",
   "execution_count": null,
   "metadata": {},
   "outputs": [],
   "source": [
    "curve = BRep_Tool.Curve(edge)\n",
    "geom_curve = curve[0]\n",
    "\n",
    "pnt = geom_curve.Value(1.4)\n",
    "print(pnt.XYZ().X())"
   ]
  },
  {
   "cell_type": "markdown",
   "metadata": {},
   "source": [
    "### Is straight line"
   ]
  },
  {
   "cell_type": "code",
   "execution_count": null,
   "metadata": {},
   "outputs": [],
   "source": [
    "points = [\n",
    "    gp_Pnt(0, 0, 0),\n",
    "    gp_Pnt(0, 0, 1),\n",
    "    gp_Pnt(0, 0.01, 2),\n",
    "]\n",
    "\n",
    "wire = geomUtils.make_wire_from_points(points)\n",
    "print(\"Is straight\", geomUtils.is_wire_straight_line(wire))\n",
    "\n",
    "RenderInWindow(SimpleRenderFunc, shapes=[wire])"
   ]
  },
  {
   "cell_type": "markdown",
   "metadata": {},
   "source": []
  }
 ],
 "metadata": {
  "kernelspec": {
   "display_name": "BIMEnv",
   "language": "python",
   "name": "python3"
  },
  "language_info": {
   "codemirror_mode": {
    "name": "ipython",
    "version": 3
   },
   "file_extension": ".py",
   "mimetype": "text/x-python",
   "name": "python",
   "nbconvert_exporter": "python",
   "pygments_lexer": "ipython3",
   "version": "3.11.5"
  }
 },
 "nbformat": 4,
 "nbformat_minor": 2
}
