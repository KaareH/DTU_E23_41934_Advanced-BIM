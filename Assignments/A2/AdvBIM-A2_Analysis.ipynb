{
 "cells": [
  {
   "cell_type": "markdown",
   "metadata": {},
   "source": [
    "# Assignment 2\n",
    "\n",
    "__41934 - Advanced BIM, E23__\n",
    "\n",
    "\n",
    "Kaare G. S. Hansen, s214282 - DTU\n",
    "\n"
   ]
  },
  {
   "cell_type": "markdown",
   "metadata": {},
   "source": [
    "\n",
    "BIM ideer:\n",
    "- Byg etager oven på hindanden, forstør søjler etc...\n",
    "- Ændre nyttelast i spaces, lav ny geometri, lav FEM-model\n",
    "- Opennest, produktionstegninger"
   ]
  },
  {
   "cell_type": "markdown",
   "metadata": {},
   "source": [
    "## Imports"
   ]
  },
  {
   "cell_type": "code",
   "execution_count": 1,
   "metadata": {},
   "outputs": [
    {
     "name": "stdout",
     "output_type": "stream",
     "text": [
      "ifcopenshell version: 0.7.0\n",
      "Python-version 3.11.5 | packaged by Anaconda, Inc. | (main, Sep 11 2023, 13:26:23) [MSC v.1916 64 bit (AMD64)]\n"
     ]
    }
   ],
   "source": [
    "import os\n",
    "import sys\n",
    "from collections import namedtuple\n",
    "import numpy as np\n",
    "import pandas as pd\n",
    "import ifcopenshell\n",
    "import ifcopenshell.util.placement\n",
    "import ifcopenshell.geom\n",
    "import ifcopenshell.util.shape\n",
    "import ifcopenshell.util.selector\n",
    "\n",
    "print(f\"ifcopenshell version: {ifcopenshell.version}\")\n",
    "print(f\"Python-version {sys.version}\")"
   ]
  },
  {
   "cell_type": "code",
   "execution_count": 2,
   "metadata": {},
   "outputs": [],
   "source": [
    "from geomUtils import *\n",
    "from ifcUtils import *"
   ]
  },
  {
   "cell_type": "code",
   "execution_count": 3,
   "metadata": {},
   "outputs": [],
   "source": [
    "import plotly.graph_objects as go\n",
    "import plotly.express as px\n",
    "import plotly.io as pio\n",
    "# pio.renderers.default = \"png\"\n",
    "pio.renderers.default = \"plotly_mimetype+png\""
   ]
  },
  {
   "cell_type": "markdown",
   "metadata": {},
   "source": [
    "## Code"
   ]
  },
  {
   "cell_type": "markdown",
   "metadata": {},
   "source": [
    "### Load models"
   ]
  },
  {
   "cell_type": "code",
   "execution_count": 4,
   "metadata": {},
   "outputs": [
    {
     "name": "stdout",
     "output_type": "stream",
     "text": [
      "File path, ark: /Users/Kaare/My Drive/DTU/Kurser/Videregaaende BIM - 41934/IFC-models\\SkyLab/LLYN - ARK.ifc\n",
      "Model schema: IFC4\n",
      "\n",
      "File path, stru: /Users/Kaare/My Drive/DTU/Kurser/Videregaaende BIM - 41934/IFC-models\\SkyLab/LLYN - STRU.ifc\n",
      "Model schema: IFC4\n",
      "\n"
     ]
    }
   ],
   "source": [
    "models = load_models()"
   ]
  },
  {
   "cell_type": "code",
   "execution_count": 5,
   "metadata": {},
   "outputs": [],
   "source": [
    "model = models['stru']\n",
    "# model = models['ark']"
   ]
  },
  {
   "cell_type": "markdown",
   "metadata": {},
   "source": [
    "### Load bearing elements"
   ]
  },
  {
   "cell_type": "code",
   "execution_count": 6,
   "metadata": {},
   "outputs": [
    {
     "name": "stdout",
     "output_type": "stream",
     "text": [
      "Number of load-bearing elements: 1750\n",
      "Unique types of loadbearing elements:\n",
      " {'IfcWall', 'IfcSlab', 'IfcBeam', 'IfcColumn'}\n"
     ]
    },
    {
     "data": {
      "text/plain": [
       "1750"
      ]
     },
     "execution_count": 6,
     "metadata": {},
     "output_type": "execute_result"
    }
   ],
   "source": [
    "load_bearing = getLoadBearing(model)\n",
    "len(load_bearing)"
   ]
  },
  {
   "cell_type": "code",
   "execution_count": 7,
   "metadata": {},
   "outputs": [],
   "source": [
    "import OCC.Core\n",
    "import OCC.Core.BRep\n",
    "import OCC.Core.BRepPrimAPI\n",
    "import OCC.Core.BRepTools"
   ]
  },
  {
   "cell_type": "code",
   "execution_count": 8,
   "metadata": {},
   "outputs": [],
   "source": [
    "from OCC.Core.GProp import GProp_GProps\n",
    "from OCC.Core.BRepGProp import brepgprop_VolumeProperties"
   ]
  },
  {
   "cell_type": "markdown",
   "metadata": {},
   "source": [
    "## Get IfcBeams as lines"
   ]
  },
  {
   "cell_type": "code",
   "execution_count": 9,
   "metadata": {},
   "outputs": [
    {
     "data": {
      "text/plain": [
       "['IfcBeam: 565', 'IfcColumn: 452', 'IfcSlab: 365', 'IfcWall: 368']"
      ]
     },
     "execution_count": 9,
     "metadata": {},
     "output_type": "execute_result"
    }
   ],
   "source": [
    "bearingElements = dict()\n",
    "for elm in load_bearing:\n",
    "    key = elm.is_a()\n",
    "    if not key in bearingElements:\n",
    "        bearingElements[key] = list()\n",
    "    \n",
    "    bearingElements[key].append(elm)\n",
    "\n",
    "[f\"{key}: {len(val)}\" for key, val in bearingElements.items()]"
   ]
  },
  {
   "cell_type": "code",
   "execution_count": 10,
   "metadata": {},
   "outputs": [],
   "source": [
    "settings = ifcopenshell.geom.settings()\n",
    "settings.set(settings.USE_PYTHON_OPENCASCADE, True)  # tells ifcopenshell to use pythonocc\n",
    "\n",
    "#################\n",
    "# Extra options #\n",
    "#################\n",
    "\n",
    "# settings.set(settings.USE_BREP_DATA,True)\n",
    "# settings.set(settings.SEW_SHELLS,True)\n",
    "# settings.set(settings.USE_WORLD_COORDS,True)\n",
    "settings.set(settings.INCLUDE_CURVES, True)\n",
    "# settings.set(settings.EDGE_ARROWS, True)"
   ]
  },
  {
   "cell_type": "code",
   "execution_count": 11,
   "metadata": {},
   "outputs": [],
   "source": [
    "def getCurveShapes(elements):\n",
    "    curveShapes = list()\n",
    "    for element in elements:\n",
    "        axis = ifcopenshell.util.representation.get_representation(element, \"Model\", \"Axis\")\n",
    "        assert axis is not None\n",
    "        curve_3d_rep = ifcopenshell.util.representation.resolve_representation(axis)\n",
    "        curveShape = ifcopenshell.geom.create_shape(settings, inst=element, repr=curve_3d_rep)\n",
    "\n",
    "        curveShapes.append(curveShape)\n",
    "    \n",
    "    return curveShapes"
   ]
  },
  {
   "cell_type": "code",
   "execution_count": 12,
   "metadata": {},
   "outputs": [],
   "source": [
    "from OCC.Core.BRepPrimAPI import BRepPrimAPI_MakeBox\n",
    "from OCC.Core.gp import gp_Pnt, gp_Ax2, gp_Dir, gp_XYZ\n",
    "from OCC.Core.BRepBndLib import brepbndlib\n",
    "from OCC.Core.BRepBuilderAPI import BRepBuilderAPI_MakeVertex\n",
    "from OCC.Core.Bnd import Bnd_OBB\n",
    "from OCC.Core.BRepTools import breptools_Read\n",
    "from OCC.Core.TopoDS import TopoDS_Shape\n",
    "from OCC.Core.BRep import BRep_Builder\n",
    "from OCC.Core.GC import GC_MakeArcOfCircle, GC_MakeSegment\n",
    "\n",
    "from OCC.Display.SimpleGui import init_display\n",
    "from OCC.Display.OCCViewer import rgb_color\n",
    "\n",
    "from OCC.Core.gp import gp_Pnt, gp_Dir, gp_Lin\n",
    "from OCC.Core.Geom import Geom_Line, Geom_Point, Geom_CartesianPoint\n",
    "from OCC.Core.AIS import AIS_Line, AIS_Point\n",
    "from OCC.Core.Prs3d import Prs3d_LineAspect, Prs3d_Drawer\n",
    "from OCC.Core.Quantity import Quantity_Color\n"
   ]
  },
  {
   "cell_type": "code",
   "execution_count": 13,
   "metadata": {},
   "outputs": [],
   "source": [
    "beams = bearingElements['IfcBeam']\n",
    "columns = bearingElements['IfcColumn']\n",
    "slabs = bearingElements['IfcSlab']\n",
    "walls = bearingElements['IfcWall']\n",
    "elements = [*beams, *columns, *slabs, *walls]\n",
    "elementsColWalls = [*beams, *columns]"
   ]
  },
  {
   "cell_type": "code",
   "execution_count": 14,
   "metadata": {},
   "outputs": [
    {
     "data": {
      "text/plain": [
       "565"
      ]
     },
     "execution_count": 14,
     "metadata": {},
     "output_type": "execute_result"
    }
   ],
   "source": [
    "beamCurves = getCurveShapes(beams)\n",
    "len(beamCurves)"
   ]
  },
  {
   "cell_type": "code",
   "execution_count": 15,
   "metadata": {},
   "outputs": [],
   "source": [
    "# columnCurves = getCurveShapes(columns)\n"
   ]
  },
  {
   "cell_type": "code",
   "execution_count": 16,
   "metadata": {},
   "outputs": [
    {
     "data": {
      "text/plain": [
       "<class 'TopoDS_Compound'>"
      ]
     },
     "execution_count": 16,
     "metadata": {},
     "output_type": "execute_result"
    }
   ],
   "source": [
    "curveShapes = beamCurves\n",
    "curveShape = curveShapes[0]\n",
    "curveShape.geometry"
   ]
  },
  {
   "cell_type": "code",
   "execution_count": 17,
   "metadata": {},
   "outputs": [
    {
     "name": "stdout",
     "output_type": "stream",
     "text": [
      "qt-pyqt5 backend - Qt version 5.15.8\n"
     ]
    }
   ],
   "source": [
    "occ_display, start_display, add_menu, add_function_to_menu = init_display()\n",
    "for curveShape in [curveShapes[i] for i in range(len(curveShapes))]:\n",
    "    occ_display.DisplayShape(curveShape.geometry)\n",
    "    # occ_display.DisplayShape(curveShape, update=True)\n",
    "\n",
    "# occ_display.DisplayShape(curveShape, update=True)\n",
    "# occ_display.SetRaytracingMode(depth=3)\n",
    "\n",
    "occ_display.FitAll()\n",
    "\n",
    "start_display()"
   ]
  },
  {
   "cell_type": "code",
   "execution_count": 19,
   "metadata": {},
   "outputs": [
    {
     "name": "stdout",
     "output_type": "stream",
     "text": [
      "INFO:OCC.Display.backend:The qt-pyqt5 backend is already loaded...``load_backend`` can only be called once per session\n",
      "qt-pyqt5 backend - Qt version 5.15.8\n"
     ]
    }
   ],
   "source": [
    "occ_display, start_display, add_menu, add_function_to_menu = init_display()\n",
    "\n",
    "# Display bodies\n",
    "NumRender = 50\n",
    "# NumRender = len(beams)\n",
    "# for product in [beams[i] for i in range(NumRender)]:\n",
    "# for product in elementsColWalls:\n",
    "for product in elements:\n",
    "# for product in [elements[i] for i in range(NumRender)]:\n",
    "    try:\n",
    "        if (\n",
    "            product.Representation is not None\n",
    "        ):  # some IfcProducts don't have any 3d representation\n",
    "            # pdct_shape = ifcopenshell.geom.create_shape(settings, inst=product)\n",
    "\n",
    "            body = ifcopenshell.util.representation.get_representation(product, \"Model\", \"Body\")\n",
    "            body_repr = ifcopenshell.util.representation.resolve_representation(body)\n",
    "            pdct_shape = ifcopenshell.geom.create_shape(settings, inst=product, repr=body_repr)\n",
    "\n",
    "            r, g, b, alpha = pdct_shape.styles[0]  # the shape color\n",
    "\n",
    "            # below, the pdct_shape.geometry is a TopoDS_Shape, i.e. can be rendered using\n",
    "            # any renderer (threejs, x3dom, jupyter, qt5 based etc.)\n",
    "            if False:\n",
    "                occ_display.DisplayShape(\n",
    "                    # pdct_shape.geometry, shape_color=color, transparency=True, opacity=alpha\n",
    "                    pdct_shape.geometry,\n",
    "                    # pdct_shape[1],\n",
    "                    color=rgb_color(r, g, b),\n",
    "                    # transparency=alpha,\n",
    "                    transparency=0.7,\n",
    "                )\n",
    "\n",
    "            # Oriented bounding box\n",
    "            if True:\n",
    "                elmShape = pdct_shape.geometry\n",
    "                obb = Bnd_OBB()\n",
    "                brepbndlib.AddOBB(elmShape, obb, True, True, True)\n",
    "                obb_shape = convert_bnd_to_shape(obb)\n",
    "                occ_display.DisplayShape(obb_shape, color=rgb_color(1.0, 0.0, 1.0), transparency=0.8)\n",
    "\n",
    "                ais_line = convert_bnd_to_line(obb)\n",
    "\n",
    "\n",
    "                # lineSeg = GC_MakeSegment(pnt, pnt2).Value()\n",
    "                # ais_line = AIS_Line(lineSeg)\n",
    "\n",
    "\n",
    "                # pt1 = Geom_CartesianPoint(pnt)\n",
    "                # pt2 = Geom_CartesianPoint(pnt2)\n",
    "                # ais_line = AIS_Line(pt1, pt2)\n",
    "                # print(type(ais_line))\n",
    "                # print(type(z_dir))\n",
    "                # line = gp_Lin(pnt, z_dir)\n",
    "\n",
    "                # ais_pnt = AIS_Point(pnt)\n",
    "                # ais_line = ais_pnt\n",
    "                width = float(3.0)\n",
    "                drawer = ais_line.Attributes()\n",
    "                ais_line.SetWidth(width)\n",
    "\n",
    "                # asp : first parameter color, second type, last width\n",
    "                i = 1\n",
    "                asp = Prs3d_LineAspect(Quantity_Color(9 * i), i, width*5.0)\n",
    "                # drawer.SetLineAspect(asp)\n",
    "                # drawer.SetLineArrowDraw(True)\n",
    "                ais_line.SetAttributes(drawer)\n",
    "                # occ_display.DisplayShape(ais_line)\n",
    "                occ_display.Context.Display(ais_line, False)\n",
    "                # occ_display.DisplayShape(pnt, color=rgb_color(0.0, 1.0, 0.0))\n",
    "                # occ_display.DisplayShape(lineSeg, color=rgb_color(1.0, 1.0, 0.0))\n",
    "                # occ_display.DisplayShape(pnt2, color=rgb_color(1.0, 1.0, 0.0))\n",
    "\n",
    "        else:\n",
    "            print(f\"Product has no representation!\")\n",
    "\n",
    "    except Exception as e:\n",
    "        print(f\"Error! {e}\")\n",
    "\n",
    "# Display lines\n",
    "if False:\n",
    "    for curveShape in [curveShapes[i] for i in range(NumRender)]:\n",
    "        occ_display.DisplayShape(curveShape.geometry)\n",
    "\n",
    "\n",
    "# occ_display.DisplayShape(curveShape, update=True)\n",
    "# occ_display.SetRaytracingMode(depth=1)\n",
    "occ_display.FitAll()\n",
    "\n",
    "start_display()"
   ]
  },
  {
   "cell_type": "code",
   "execution_count": null,
   "metadata": {},
   "outputs": [],
   "source": []
  }
 ],
 "metadata": {
  "kernelspec": {
   "display_name": "BIMenv39",
   "language": "python",
   "name": "python3"
  },
  "language_info": {
   "codemirror_mode": {
    "name": "ipython",
    "version": 3
   },
   "file_extension": ".py",
   "mimetype": "text/x-python",
   "name": "python",
   "nbconvert_exporter": "python",
   "pygments_lexer": "ipython3",
   "version": "3.11.5"
  },
  "orig_nbformat": 4
 },
 "nbformat": 4,
 "nbformat_minor": 2
}
