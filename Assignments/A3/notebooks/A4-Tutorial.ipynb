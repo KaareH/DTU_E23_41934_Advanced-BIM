{
 "cells": [
  {
   "cell_type": "markdown",
   "metadata": {},
   "source": [
    "# Assignment 4 - Tutorial\n",
    "\n",
    "Simple analytical model        \n",
    "\n",
    "__41934 - Advanced BIM, E23__\n",
    "\n",
    "Kaare G. S. Hansen, s214282 - DTU\n"
   ]
  },
  {
   "cell_type": "markdown",
   "metadata": {},
   "source": [
    "## Imports"
   ]
  },
  {
   "cell_type": "code",
   "execution_count": null,
   "metadata": {},
   "outputs": [],
   "source": []
  }
 ],
 "metadata": {
  "language_info": {
   "name": "python"
  }
 },
 "nbformat": 4,
 "nbformat_minor": 2
}
